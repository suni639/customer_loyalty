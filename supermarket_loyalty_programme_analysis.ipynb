{
 "cells": [
  {
   "cell_type": "markdown",
   "id": "c934b17f",
   "metadata": {},
   "source": [
    "# Predicting the revenue from a loyalty programme\n",
    "\n",
    "International Essentials is an international supermarket chain.\n",
    "\n",
    "Shoppers at their supermarkets can sign up for a loyalty program that provides rewards each year to customers based on their spending. The more you spend the bigger the rewards. \n",
    "\n",
    "The supermarket would like to be able to predict the likely amount customers in the program will spend, so they can estimate the cost of the rewards. \n",
    "\n",
    "This will help them to predict the likely profit at the end of the year.\n",
    "\n",
    "## Data\n",
    "\n",
    "The dataset contains records of customers for their last full year of the loyalty program.\n",
    "\n",
    "| Column Name | Criteria                                                |\n",
    "|-------------|---------------------------------------------------------|\n",
    "|customer_id | Unique identifier for the customer. </br>Missing values are not possible due to the database structure. |\n",
    "|spend | Continuous. </br>The total spend of the customer in their last full year. This can be any positive value to two decimal places. </br>Missing values should be replaced with 0. |\n",
    "|first_month | Continuous. </br>The amount spent by the customer in their first month of the year. This can be any positive value, rounded to two decimal places. </br>Missing values should be replaced with 0. |\n",
    "| items_in_first_month | Discrete. </br>The number of items purchased in the first month. Any integer value greater than or equal to zero. </br>Missing values should be replaced by 0. |  \n",
    "| region | Nominal. </br>The geographic region that the customer is based in. One of four values Americas, Asia/Pacific, Europe, Middle East/Africa. </br>Missing values should be replaced with \"Unknown\". |\n",
    "| loyalty_years | Oridinal. </br>The number of years the customer has been a part of the loyalty program. One of five ordered categories, '0-1', '1-3', '3-5', '5-10', '10+'. </br>Missing values should be replaced with '0-1'.|\n",
    "| joining_month | Nominal. </br>The month the customer joined the loyalty program. One of 12 values \"Jan\", \"Feb\", \"Mar\", \"Apr\", etc. </br>Missing values should be replaced with \"Unknown\".|\n",
    "| promotion | Nominal. </br>Did the customer join the loyalty program as part of a promotion? Either 'Yes' or 'No'. </br>Missing values should be replaced with 'No'.|\n"
   ]
  },
  {
   "cell_type": "code",
   "execution_count": 1,
   "id": "fe923432",
   "metadata": {},
   "outputs": [],
   "source": [
    "# Import the relevant libraries\n",
    "import pandas as pd\n",
    "\n",
    "#Common Model Algorithms\n",
    "from sklearn import model_selection, ensemble, gaussian_process, linear_model, neighbors, naive_bayes, svm, tree, discriminant_analysis\n",
    "from sklearn.model_selection import train_test_split\n",
    "from sklearn.metrics import mean_squared_error\n",
    "from sklearn.ensemble import RandomForestRegressor\n",
    "from xgboost import XGBClassifier, XGBRegressor\n",
    "\n",
    "#Common Model Helpers\n",
    "from sklearn.preprocessing import OneHotEncoder, LabelEncoder\n",
    "from sklearn import feature_selection\n",
    "from sklearn import model_selection\n",
    "from sklearn import metrics\n",
    "\n",
    "#Visualization\n",
    "import matplotlib as mpl\n",
    "import matplotlib.pyplot as plt\n",
    "import matplotlib.pylab as pylab\n",
    "import seaborn as sns"
   ]
  },
  {
   "cell_type": "markdown",
   "id": "ed696e48",
   "metadata": {},
   "source": [
    "# Task 1: Cleaning the data\n",
    "\n",
    "Before fitting any models, you need to make sure the data is clean. \n",
    "\n",
    "The table above shows what the data should look like. \n",
    "\n",
    "Create a cleaned version of the dataframe. \n",
    "\n",
    " - Start with the data in the file `loyalty.csv`. \n",
    "\n",
    " - The output should be a dataframe named `clean_data`. \n",
    "\n",
    " - All column names and values should match the table above."
   ]
  },
  {
   "cell_type": "code",
   "execution_count": 2,
   "id": "ff38545f",
   "metadata": {},
   "outputs": [
    {
     "name": "stdout",
     "output_type": "stream",
     "text": [
      "   customer_id   spend first_month  items_in_first_month              region  \\\n",
      "0            1  132.68        15.3                     5        Asia/Pacific   \n",
      "1            2  106.45        16.2                    14        Asia/Pacific   \n",
      "2            3  123.16       25.26                     7  Middle East/Africa   \n",
      "3            4  130.60       24.74                     8  Middle East/Africa   \n",
      "4            5  130.41       25.59                     8  Middle East/Africa   \n",
      "\n",
      "  loyalty_years joining_month promotion  \n",
      "0          5-10           Nov        No  \n",
      "1           0-1           Feb       Yes  \n",
      "2           10+           Dec       Yes  \n",
      "3           3-5           Apr        No  \n",
      "4           3-5           Apr       Yes  \n",
      "<class 'pandas.core.frame.DataFrame'>\n",
      "RangeIndex: 1246 entries, 0 to 1245\n",
      "Data columns (total 8 columns):\n",
      " #   Column                Non-Null Count  Dtype  \n",
      "---  ------                --------------  -----  \n",
      " 0   customer_id           1246 non-null   int64  \n",
      " 1   spend                 1246 non-null   float64\n",
      " 2   first_month           1246 non-null   object \n",
      " 3   items_in_first_month  1246 non-null   int64  \n",
      " 4   region                1246 non-null   object \n",
      " 5   loyalty_years         1246 non-null   object \n",
      " 6   joining_month         1121 non-null   object \n",
      " 7   promotion             1246 non-null   object \n",
      "dtypes: float64(1), int64(2), object(5)\n",
      "memory usage: 78.0+ KB\n",
      "None\n",
      "       customer_id        spend  items_in_first_month\n",
      "count  1246.000000  1246.000000           1246.000000\n",
      "mean    623.500000   122.637119              9.418138\n",
      "std     359.833526     9.975102              3.000288\n",
      "min       1.000000   104.290000              5.000000\n",
      "25%     312.250000   112.210000              7.000000\n",
      "50%     623.500000   123.840000              9.000000\n",
      "75%     934.750000   131.092500             13.000000\n",
      "max    1246.000000   142.290000             15.000000\n"
     ]
    }
   ],
   "source": [
    "# Load the dataset\n",
    "df = pd.read_csv('loyalty.csv')\n",
    "\n",
    "# Inspecting the data\n",
    "print(df.head())\n",
    "\n",
    "#confirming the datatypes\n",
    "print(df.info())\n",
    "\n",
    "# Inspecting the descriptive stats\n",
    "print(df.describe())"
   ]
  },
  {
   "cell_type": "code",
   "execution_count": 3,
   "id": "7b4c71bc",
   "metadata": {},
   "outputs": [
    {
     "name": "stdout",
     "output_type": "stream",
     "text": [
      "Customer IDs are unique: True\n",
      "There are no missing customer_id values: True\n"
     ]
    }
   ],
   "source": [
    "# Cleaning the customer_id column\n",
    "\n",
    "# Check if all customer_id values are unique\n",
    "customer_id_unique = df['customer_id'].is_unique\n",
    "\n",
    "# Check for missing values in customer_id\n",
    "customer_id_missing_values = df['customer_id'].isnull().any()\n",
    "\n",
    "print(\"Customer IDs are unique:\", customer_id_unique)\n",
    "print(\"There are no missing customer_id values:\", not customer_id_missing_values)\n"
   ]
  },
  {
   "cell_type": "code",
   "execution_count": 4,
   "id": "1ba718d2",
   "metadata": {},
   "outputs": [
    {
     "name": "stdout",
     "output_type": "stream",
     "text": [
      "count    1246.000000\n",
      "mean      122.637119\n",
      "std         9.975102\n",
      "min       104.290000\n",
      "25%       112.210000\n",
      "50%       123.840000\n",
      "75%       131.092500\n",
      "max       142.290000\n",
      "Name: spend, dtype: float64\n",
      "There are only positive values in 'spend': True\n"
     ]
    }
   ],
   "source": [
    "# Cleaning the spend column\n",
    "\n",
    "# Ensure 'spend' is a float and replace any missing values with 0\n",
    "df['spend'] = df['spend'].fillna(0).astype(float).round(2)\n",
    "\n",
    "# Check the descriptive statistics for 'spend'\n",
    "spend_stats = df['spend'].describe()\n",
    "\n",
    "# Explicitly check for any negative values\n",
    "negative_values_exist = (df['spend'] < 0).any()\n",
    "\n",
    "print(spend_stats)\n",
    "print(\"There are only positive values in 'spend':\", not negative_values_exist)"
   ]
  },
  {
   "cell_type": "code",
   "execution_count": 5,
   "id": "ead0dcd9",
   "metadata": {},
   "outputs": [
    {
     "name": "stdout",
     "output_type": "stream",
     "text": [
      "count    1246.00\n",
      "mean       17.16\n",
      "std         6.58\n",
      "min         0.00\n",
      "25%        15.75\n",
      "50%        19.12\n",
      "75%        21.28\n",
      "max        26.20\n",
      "Name: first_month, dtype: float64\n"
     ]
    }
   ],
   "source": [
    "# Cleaning the first_month column\n",
    "\n",
    "# Replace non-numeric entries with NaN. This uses a regular expression that matches non-numeric values\n",
    "df['first_month'] = pd.to_numeric(df['first_month'], errors='coerce')\n",
    "\n",
    "# Ensure 'first_month' is a float, replace any missing values with 0, and round to two decimal places\n",
    "df['first_month'] = df['first_month'].fillna(0).astype(float).round(2)\n",
    "\n",
    "# Check for negative values and decide how to handle them\n",
    "negative_values = df[df['first_month'] < 0]\n",
    "if not negative_values.empty:\n",
    "    print(\"There are negative values in 'first_month'. Consider how you'd like to handle these.\")\n",
    "\n",
    "# Check the descriptive statistics for 'first_month'\n",
    "first_month_stats = df['first_month'].describe().round(2)\n",
    "print(first_month_stats)"
   ]
  },
  {
   "cell_type": "code",
   "execution_count": 6,
   "id": "1f294d7b",
   "metadata": {},
   "outputs": [
    {
     "name": "stdout",
     "output_type": "stream",
     "text": [
      "count    1246.000000\n",
      "mean        9.418138\n",
      "std         3.000288\n",
      "min         5.000000\n",
      "25%         7.000000\n",
      "50%         9.000000\n",
      "75%        13.000000\n",
      "max        15.000000\n",
      "Name: items_in_first_month, dtype: float64\n"
     ]
    }
   ],
   "source": [
    "# Cleaning the items_in_first_month column\n",
    "\n",
    "# Replace missing values with 0\n",
    "df['items_in_first_month'] = df['items_in_first_month'].fillna(0).round().astype(int)\n",
    "\n",
    "# Check the descriptive statistics for 'items_in_first_month'\n",
    "items_in_first_month_stats = df['items_in_first_month'].describe()\n",
    "print(items_in_first_month_stats)"
   ]
  },
  {
   "cell_type": "code",
   "execution_count": 7,
   "id": "bb92a93f",
   "metadata": {},
   "outputs": [
    {
     "name": "stdout",
     "output_type": "stream",
     "text": [
      "['Asia/Pacific', 'Middle East/Africa', 'Europe', 'Americas']\n",
      "Categories (4, object): ['Asia/Pacific', 'Middle East/Africa', 'Europe', 'Americas']\n"
     ]
    }
   ],
   "source": [
    "# Cleaning the region column\n",
    "\n",
    "# Defining the valid categories for the 'region' column, including 'Unknown'\n",
    "categories = ['Americas', 'Asia/Pacific', 'Europe', 'Middle East/Africa', 'Unknown']\n",
    "\n",
    "# Ensuring all values are valid categories, replacing invalid ones with 'Unknown'\n",
    "df['region'] = df['region'].where(df['region'].isin(categories), 'Unknown')\n",
    "\n",
    "# Converting the 'region' column to categorical with the predefined categories\n",
    "df['region'] = pd.Categorical(df['region'], categories=categories)\n",
    "\n",
    "# Check the unique values to confirm the changes\n",
    "print(df['region'].unique())"
   ]
  },
  {
   "cell_type": "code",
   "execution_count": 8,
   "id": "5cce75bb",
   "metadata": {},
   "outputs": [
    {
     "name": "stdout",
     "output_type": "stream",
     "text": [
      "category\n",
      "Index(['0-1', '1-3', '3-5', '5-10', '10+'], dtype='object')\n"
     ]
    }
   ],
   "source": [
    "# Cleaning the loyalty_years column\n",
    "\n",
    "# Replace missing values with '0-1'\n",
    "df['loyalty_years'] = df['loyalty_years'].fillna('0-1')\n",
    "\n",
    "# Define the valid ordered categories\n",
    "valid_loyalty_years = ['0-1', '1-3', '3-5', '5-10', '10+']\n",
    "\n",
    "# Replace any entries not matching the valid categories with '0-1'\n",
    "df.loc[~df['loyalty_years'].isin(valid_loyalty_years), 'loyalty_years'] = '0-1'\n",
    "\n",
    "# Convert to an ordered Categorical type\n",
    "df['loyalty_years'] = pd.Categorical(df['loyalty_years'], categories=valid_loyalty_years, ordered=True)\n",
    "\n",
    "# Check the changes\n",
    "print(df['loyalty_years'].dtype)\n",
    "print(df['loyalty_years'].cat.categories)"
   ]
  },
  {
   "cell_type": "code",
   "execution_count": 9,
   "id": "4c9e00b5",
   "metadata": {},
   "outputs": [
    {
     "name": "stdout",
     "output_type": "stream",
     "text": [
      "category\n",
      "['Apr', 'Aug', 'Dec', 'Feb', 'Jan', 'Jul', 'Jun', 'Mar', 'May', 'Nov', 'Oct', 'Sep', 'Unknown']\n"
     ]
    }
   ],
   "source": [
    "# Cleaning joining_month column\n",
    "\n",
    "# Replace missing values with 'Unknown'\n",
    "df['joining_month'] = df['joining_month'].fillna('Unknown')\n",
    "\n",
    "# List of valid month abbreviations\n",
    "valid_months = [\"Jan\", \"Feb\", \"Mar\", \"Apr\", \"May\", \"Jun\", \"Jul\", \"Aug\", \"Sep\", \"Oct\", \"Nov\", \"Dec\"]\n",
    "\n",
    "# Replace any entry not matching the valid months with 'Unknown'\n",
    "df.loc[~df['joining_month'].isin(valid_months), 'joining_month'] = 'Unknown'\n",
    "\n",
    "# Convert to categorical type (nominal) without imposing order\n",
    "df['joining_month'] = pd.Categorical(df['joining_month'], categories=valid_months + ['Unknown'], ordered=False)\n",
    "\n",
    "# To check the changes\n",
    "print(df['joining_month'].dtype)\n",
    "print(sorted(df['joining_month'].unique()))"
   ]
  },
  {
   "cell_type": "code",
   "execution_count": 10,
   "id": "19fb06a2",
   "metadata": {},
   "outputs": [
    {
     "name": "stdout",
     "output_type": "stream",
     "text": [
      "['NO', 'No', 'YES', 'Yes']\n",
      "category\n",
      "['No', 'Yes']\n"
     ]
    }
   ],
   "source": [
    "# Cleaning the promotion column \n",
    "\n",
    "# Display the unique values in the 'promotion' column\n",
    "unique_promotion_values = df['promotion'].unique()\n",
    "print(sorted(unique_promotion_values))\n",
    "\n",
    "# Standardize the 'promotion' column to have only 'Yes' or 'No'\n",
    "df['promotion'] = df['promotion'].str.lower().map({'yes': 'Yes', 'no': 'No'}).fillna('No')\n",
    "\n",
    "# Convert to a nominal categorical type without imposing order\n",
    "df['promotion'] = pd.Categorical(df['promotion'], categories=['Yes', 'No'], ordered=False)\n",
    "\n",
    "# # Checking the dtype and unique values to confirm the changes\n",
    "print(df['promotion'].dtype)\n",
    "print(sorted(df['promotion'].unique()))"
   ]
  },
  {
   "cell_type": "code",
   "execution_count": 11,
   "id": "0e1268e4",
   "metadata": {},
   "outputs": [
    {
     "name": "stdout",
     "output_type": "stream",
     "text": [
      "   customer_id   spend  first_month  items_in_first_month              region  \\\n",
      "0            1  132.68        15.30                     5        Asia/Pacific   \n",
      "1            2  106.45        16.20                    14        Asia/Pacific   \n",
      "2            3  123.16        25.26                     7  Middle East/Africa   \n",
      "3            4  130.60        24.74                     8  Middle East/Africa   \n",
      "4            5  130.41        25.59                     8  Middle East/Africa   \n",
      "\n",
      "  loyalty_years joining_month promotion  \n",
      "0          5-10           Nov        No  \n",
      "1           0-1           Feb       Yes  \n",
      "2           10+           Dec       Yes  \n",
      "3           3-5           Apr        No  \n",
      "4           3-5           Apr       Yes  \n",
      "<class 'pandas.core.frame.DataFrame'>\n",
      "RangeIndex: 1246 entries, 0 to 1245\n",
      "Data columns (total 8 columns):\n",
      " #   Column                Non-Null Count  Dtype   \n",
      "---  ------                --------------  -----   \n",
      " 0   customer_id           1246 non-null   int64   \n",
      " 1   spend                 1246 non-null   float64 \n",
      " 2   first_month           1246 non-null   float64 \n",
      " 3   items_in_first_month  1246 non-null   int32   \n",
      " 4   region                1246 non-null   category\n",
      " 5   loyalty_years         1246 non-null   category\n",
      " 6   joining_month         1246 non-null   category\n",
      " 7   promotion             1246 non-null   category\n",
      "dtypes: category(4), float64(2), int32(1), int64(1)\n",
      "memory usage: 40.2 KB\n",
      "None\n",
      "Unique values in 'region': ['Americas', 'Asia/Pacific', 'Europe', 'Middle East/Africa']\n",
      "Unique values in 'loyalty_years': ['0-1', '1-3', '10+', '3-5', '5-10']\n",
      "Unique values in 'joining_month': ['Apr', 'Aug', 'Dec', 'Feb', 'Jan', 'Jul', 'Jun', 'Mar', 'May', 'Nov', 'Oct', 'Sep', 'Unknown']\n",
      "Unique values in 'promotion': ['No', 'Yes']\n"
     ]
    }
   ],
   "source": [
    "# rename df to clean_data \n",
    "clean_data = df.copy()\n",
    "\n",
    "print(clean_data.head())\n",
    "print(clean_data.info())\n",
    "\n",
    "import pandas as pd\n",
    "\n",
    "# Iterate over each column in the DataFrame\n",
    "for column in clean_data.columns:\n",
    "    # Check if the column is of dtype 'category' using isinstance to ensure compatibility\n",
    "    if isinstance(clean_data[column].dtype, pd.CategoricalDtype):\n",
    "        print(f\"Unique values in '{column}': {sorted(clean_data[column].unique())}\")\n",
    "\n"
   ]
  },
  {
   "cell_type": "markdown",
   "id": "923c5865",
   "metadata": {},
   "source": [
    "# Task 2: Drawing consumer behaviour insights\n",
    "\n",
    "The team at International Essentials have told you that they have always believed that the number of years in the loyalty scheme is the biggest driver of spend. \n",
    "\n",
    "Producing a table showing the difference in the average spend by number of years in the loyalty programme along with the variance to investigate this question for the team.\n",
    "\n",
    " - You should start with the data in the file `loyalty.csv`.\n",
    "\n",
    " - Your output should be a data frame named `spend_by_years`.\n",
    "\n",
    " - It should include the three columns `loyalty_years`, `avg_spend`, `var_spend`. \n",
    "\n",
    " - Your answers should be rounded to 2 decimal places.   "
   ]
  },
  {
   "cell_type": "code",
   "execution_count": null,
   "id": "19acd2cb",
   "metadata": {},
   "outputs": [],
   "source": [
    "# Calculate average spend and variance by loyalty_years\n",
    "spend_by_years = clean_data.groupby('loyalty_years')['spend'].agg(['mean', 'var']).reset_index()\n",
    "spend_by_years.columns = ['loyalty_years', 'avg_spend', 'var_spend']\n",
    "\n",
    "# Round the values to 2 decimal places\n",
    "spend_by_years['avg_spend'] = spend_by_years['avg_spend'].round(2)\n",
    "spend_by_years['var_spend'] = spend_by_years['var_spend'].round(2)\n",
    "\n",
    "# Display the resulting dataframe\n",
    "print(spend_by_years)"
   ]
  },
  {
   "cell_type": "code",
   "execution_count": null,
   "id": "0ddaae6e",
   "metadata": {},
   "outputs": [],
   "source": [
    "fig, (axis1,axis2,axis3) = plt.subplots(3,1,figsize=(15,30))\n",
    "\n",
    "sns.boxplot(y = 'region', x = 'spend', hue = 'promotion', data = clean_data, ax = axis1)\n",
    "axis1.set_title('Region vs Spend Comparison')\n",
    "\n",
    "sns.violinplot(y = 'loyalty_years', x = 'spend', hue = 'promotion', data = clean_data, split = True, ax = axis2)\n",
    "axis2.set_title('Loyalty vs Spend Comparison')\n",
    "\n",
    "sns.boxplot(y = 'joining_month', x ='spend', hue = 'promotion', data = clean_data, ax = axis3)\n",
    "axis3.set_title('Month Joined vs Spend Comparison')"
   ]
  },
  {
   "cell_type": "code",
   "execution_count": null,
   "id": "405ba1ef",
   "metadata": {},
   "outputs": [],
   "source": []
  },
  {
   "cell_type": "code",
   "execution_count": null,
   "id": "4c22e217",
   "metadata": {},
   "outputs": [],
   "source": [
    "# Visualizing the data\n",
    "\n",
    "#correlation heatmap of dataset\n",
    "def correlation_heatmap(df):\n",
    "    _ , ax = plt.subplots(figsize =(14, 12))\n",
    "    colormap = sns.diverging_palette(220, 10, as_cmap = True)\n",
    "    \n",
    "    _ = sns.heatmap(\n",
    "        df.corr(), \n",
    "        cmap = colormap,\n",
    "        square=True, \n",
    "        cbar_kws={'shrink':.9 }, \n",
    "        ax=ax,\n",
    "        annot=True, \n",
    "        linewidths=0.1,vmax=1.0, linecolor='white',\n",
    "        annot_kws={'fontsize':12 }\n",
    "    )\n",
    "    \n",
    "    plt.title('Pearson Correlation of Features', y=1.05, size=15)\n",
    "\n",
    "correlation_heatmap(clean_data)"
   ]
  },
  {
   "cell_type": "code",
   "execution_count": null,
   "id": "35c0a991",
   "metadata": {},
   "outputs": [],
   "source": []
  },
  {
   "cell_type": "code",
   "execution_count": null,
   "id": "11b52222",
   "metadata": {},
   "outputs": [],
   "source": []
  },
  {
   "cell_type": "markdown",
   "id": "58ee8b63",
   "metadata": {},
   "source": [
    "# Task 3: Modelling the data\n",
    "\n",
    "Fit a baseline model to predict the spend over the year for each customer.\n",
    "\n",
    " 1. Fit your model using the data contained in `train.csv` </br></br> \n",
    "\n",
    " 2. Use `test.csv` to predict new values based on your model. You must return a dataframe named `base_result`, that includes `customer_id` and `spend`. The `spend` column must be your predicted values."
   ]
  },
  {
   "cell_type": "code",
   "execution_count": 16,
   "id": "2172cbe6",
   "metadata": {},
   "outputs": [
    {
     "data": {
      "text/html": [
       "<div>\n",
       "<style scoped>\n",
       "    .dataframe tbody tr th:only-of-type {\n",
       "        vertical-align: middle;\n",
       "    }\n",
       "\n",
       "    .dataframe tbody tr th {\n",
       "        vertical-align: top;\n",
       "    }\n",
       "\n",
       "    .dataframe thead th {\n",
       "        text-align: right;\n",
       "    }\n",
       "</style>\n",
       "<table border=\"1\" class=\"dataframe\">\n",
       "  <thead>\n",
       "    <tr style=\"text-align: right;\">\n",
       "      <th></th>\n",
       "      <th>MLA Name</th>\n",
       "      <th>MLA Parameters</th>\n",
       "      <th>MLA Train MSE Mean</th>\n",
       "      <th>MLA Test MSE Mean</th>\n",
       "      <th>MLA Test MSE 3*STD</th>\n",
       "      <th>MLA Time</th>\n",
       "    </tr>\n",
       "  </thead>\n",
       "  <tbody>\n",
       "    <tr>\n",
       "      <th>11</th>\n",
       "      <td>XGBRegressor</td>\n",
       "      <td>{'objective': 'reg:squarederror', 'base_score'...</td>\n",
       "      <td>0.003858</td>\n",
       "      <td>0.5021</td>\n",
       "      <td>0.344593</td>\n",
       "      <td>0.062576</td>\n",
       "    </tr>\n",
       "    <tr>\n",
       "      <th>3</th>\n",
       "      <td>GradientBoostingRegressor</td>\n",
       "      <td>{'alpha': 0.9, 'ccp_alpha': 0.0, 'criterion': ...</td>\n",
       "      <td>0.269169</td>\n",
       "      <td>0.530869</td>\n",
       "      <td>0.353793</td>\n",
       "      <td>0.092734</td>\n",
       "    </tr>\n",
       "    <tr>\n",
       "      <th>2</th>\n",
       "      <td>ExtraTreesRegressor</td>\n",
       "      <td>{'bootstrap': False, 'ccp_alpha': 0.0, 'criter...</td>\n",
       "      <td>0.0</td>\n",
       "      <td>0.626259</td>\n",
       "      <td>0.484388</td>\n",
       "      <td>0.268162</td>\n",
       "    </tr>\n",
       "    <tr>\n",
       "      <th>4</th>\n",
       "      <td>RandomForestRegressor</td>\n",
       "      <td>{'bootstrap': True, 'ccp_alpha': 0.0, 'criteri...</td>\n",
       "      <td>0.105515</td>\n",
       "      <td>0.845706</td>\n",
       "      <td>0.663499</td>\n",
       "      <td>0.285782</td>\n",
       "    </tr>\n",
       "    <tr>\n",
       "      <th>1</th>\n",
       "      <td>BaggingRegressor</td>\n",
       "      <td>{'base_estimator': None, 'bootstrap': True, 'b...</td>\n",
       "      <td>0.130476</td>\n",
       "      <td>0.869536</td>\n",
       "      <td>0.707006</td>\n",
       "      <td>0.032995</td>\n",
       "    </tr>\n",
       "    <tr>\n",
       "      <th>10</th>\n",
       "      <td>ExtraTreeRegressor</td>\n",
       "      <td>{'ccp_alpha': 0.0, 'criterion': 'mse', 'max_de...</td>\n",
       "      <td>-0.0</td>\n",
       "      <td>1.091166</td>\n",
       "      <td>0.690015</td>\n",
       "      <td>0.004412</td>\n",
       "    </tr>\n",
       "    <tr>\n",
       "      <th>9</th>\n",
       "      <td>DecisionTreeRegressor</td>\n",
       "      <td>{'ccp_alpha': 0.0, 'criterion': 'mse', 'max_de...</td>\n",
       "      <td>0.0</td>\n",
       "      <td>1.111701</td>\n",
       "      <td>1.064209</td>\n",
       "      <td>0.005061</td>\n",
       "    </tr>\n",
       "    <tr>\n",
       "      <th>5</th>\n",
       "      <td>LinearRegression</td>\n",
       "      <td>{'copy_X': True, 'fit_intercept': True, 'n_job...</td>\n",
       "      <td>1.195712</td>\n",
       "      <td>1.296379</td>\n",
       "      <td>0.33222</td>\n",
       "      <td>0.002586</td>\n",
       "    </tr>\n",
       "    <tr>\n",
       "      <th>6</th>\n",
       "      <td>RidgeCV</td>\n",
       "      <td>{'alpha_per_target': False, 'alphas': array([ ...</td>\n",
       "      <td>1.195777</td>\n",
       "      <td>1.296399</td>\n",
       "      <td>0.332522</td>\n",
       "      <td>0.003501</td>\n",
       "    </tr>\n",
       "    <tr>\n",
       "      <th>0</th>\n",
       "      <td>AdaBoostRegressor</td>\n",
       "      <td>{'base_estimator': None, 'learning_rate': 1.0,...</td>\n",
       "      <td>3.743381</td>\n",
       "      <td>4.014258</td>\n",
       "      <td>0.835223</td>\n",
       "      <td>0.084863</td>\n",
       "    </tr>\n",
       "    <tr>\n",
       "      <th>8</th>\n",
       "      <td>SVR</td>\n",
       "      <td>{'C': 1.0, 'cache_size': 200, 'coef0': 0.0, 'd...</td>\n",
       "      <td>100.488935</td>\n",
       "      <td>103.317948</td>\n",
       "      <td>10.660814</td>\n",
       "      <td>0.03949</td>\n",
       "    </tr>\n",
       "    <tr>\n",
       "      <th>7</th>\n",
       "      <td>KNeighborsRegressor</td>\n",
       "      <td>{'algorithm': 'auto', 'leaf_size': 30, 'metric...</td>\n",
       "      <td>76.727333</td>\n",
       "      <td>121.541492</td>\n",
       "      <td>13.32967</td>\n",
       "      <td>0.002</td>\n",
       "    </tr>\n",
       "  </tbody>\n",
       "</table>\n",
       "</div>"
      ],
      "text/plain": [
       "                     MLA Name  \\\n",
       "11               XGBRegressor   \n",
       "3   GradientBoostingRegressor   \n",
       "2         ExtraTreesRegressor   \n",
       "4       RandomForestRegressor   \n",
       "1            BaggingRegressor   \n",
       "10         ExtraTreeRegressor   \n",
       "9       DecisionTreeRegressor   \n",
       "5            LinearRegression   \n",
       "6                     RidgeCV   \n",
       "0           AdaBoostRegressor   \n",
       "8                         SVR   \n",
       "7         KNeighborsRegressor   \n",
       "\n",
       "                                       MLA Parameters MLA Train MSE Mean  \\\n",
       "11  {'objective': 'reg:squarederror', 'base_score'...           0.003858   \n",
       "3   {'alpha': 0.9, 'ccp_alpha': 0.0, 'criterion': ...           0.269169   \n",
       "2   {'bootstrap': False, 'ccp_alpha': 0.0, 'criter...                0.0   \n",
       "4   {'bootstrap': True, 'ccp_alpha': 0.0, 'criteri...           0.105515   \n",
       "1   {'base_estimator': None, 'bootstrap': True, 'b...           0.130476   \n",
       "10  {'ccp_alpha': 0.0, 'criterion': 'mse', 'max_de...               -0.0   \n",
       "9   {'ccp_alpha': 0.0, 'criterion': 'mse', 'max_de...                0.0   \n",
       "5   {'copy_X': True, 'fit_intercept': True, 'n_job...           1.195712   \n",
       "6   {'alpha_per_target': False, 'alphas': array([ ...           1.195777   \n",
       "0   {'base_estimator': None, 'learning_rate': 1.0,...           3.743381   \n",
       "8   {'C': 1.0, 'cache_size': 200, 'coef0': 0.0, 'd...         100.488935   \n",
       "7   {'algorithm': 'auto', 'leaf_size': 30, 'metric...          76.727333   \n",
       "\n",
       "   MLA Test MSE Mean MLA Test MSE 3*STD  MLA Time  \n",
       "11            0.5021           0.344593  0.062576  \n",
       "3           0.530869           0.353793  0.092734  \n",
       "2           0.626259           0.484388  0.268162  \n",
       "4           0.845706           0.663499  0.285782  \n",
       "1           0.869536           0.707006  0.032995  \n",
       "10          1.091166           0.690015  0.004412  \n",
       "9           1.111701           1.064209  0.005061  \n",
       "5           1.296379            0.33222  0.002586  \n",
       "6           1.296399           0.332522  0.003501  \n",
       "0           4.014258           0.835223  0.084863  \n",
       "8         103.317948          10.660814   0.03949  \n",
       "7         121.541492           13.32967     0.002  "
      ]
     },
     "execution_count": 16,
     "metadata": {},
     "output_type": "execute_result"
    }
   ],
   "source": [
    "# One-hot encode categorical columns\n",
    "clean_data_encoded = pd.get_dummies(clean_data, columns=['region', 'loyalty_years', 'joining_month', 'promotion'])\n",
    "\n",
    "# Define your target variable\n",
    "Target = 'spend'\n",
    "\n",
    "# Machine Learning Algorithm (MLA) Selection and Initialization for regression\n",
    "MLA = [\n",
    "    ensemble.AdaBoostRegressor(),\n",
    "    ensemble.BaggingRegressor(),\n",
    "    ensemble.ExtraTreesRegressor(),\n",
    "    ensemble.GradientBoostingRegressor(),\n",
    "    ensemble.RandomForestRegressor(),\n",
    "    linear_model.LinearRegression(),\n",
    "    linear_model.RidgeCV(),\n",
    "    neighbors.KNeighborsRegressor(),\n",
    "    svm.SVR(),\n",
    "    tree.DecisionTreeRegressor(),\n",
    "    tree.ExtraTreeRegressor(),\n",
    "    XGBRegressor()  # Note: Removed enable_categorical=True due to compatibility issues\n",
    "]\n",
    "\n",
    "# Cross-validation and MLA comparison\n",
    "cv_split = model_selection.ShuffleSplit(n_splits=10, test_size=.3, train_size=.7, random_state=0)\n",
    "MLA_columns = [\n",
    "    'MLA Name', \n",
    "    'MLA Parameters',\n",
    "    'MLA Train MSE Mean',  # Using Mean Squared Error to assess model accuracy\n",
    "    'MLA Test MSE Mean', \n",
    "    'MLA Test MSE 3*STD',  # Reflects variability in test MSE\n",
    "    'MLA Time'\n",
    "]\n",
    "MLA_compare = pd.DataFrame(columns=MLA_columns)\n",
    "\n",
    "row_index = 0\n",
    "for alg in MLA:\n",
    "    MLA_name = alg.__class__.__name__\n",
    "    MLA_compare.loc[row_index, 'MLA Name'] = MLA_name\n",
    "    MLA_compare.loc[row_index, 'MLA Parameters'] = str(alg.get_params())\n",
    "    \n",
    "    # Score model with cross-validation, ensure to drop the Target column for X, and use Target directly for y\n",
    "    cv_results = model_selection.cross_validate(alg, clean_data_encoded.drop(columns=[Target]), clean_data_encoded[Target], cv=cv_split, scoring='neg_mean_squared_error', return_train_score=True)\n",
    "    \n",
    "    MLA_compare.loc[row_index, 'MLA Time'] = cv_results['fit_time'].mean()\n",
    "    MLA_compare.loc[row_index, 'MLA Train MSE Mean'] = -cv_results['train_score'].mean()  # Negate to make positive\n",
    "    MLA_compare.loc[row_index, 'MLA Test MSE Mean'] = -cv_results['test_score'].mean()  # Negate to make positive\n",
    "    MLA_compare.loc[row_index, 'MLA Test MSE 3*STD'] = cv_results['test_score'].std()*3\n",
    "    row_index += 1\n",
    "\n",
    "# Sort and display the results\n",
    "MLA_compare.sort_values(by=['MLA Test MSE Mean'], ascending=True, inplace=True)  # Lower MSE is better\n",
    "MLA_compare\n"
   ]
  },
  {
   "cell_type": "code",
   "execution_count": 17,
   "id": "f6defd35",
   "metadata": {},
   "outputs": [
    {
     "data": {
      "text/plain": [
       "Text(0, 0.5, 'Algorithm')"
      ]
     },
     "execution_count": 17,
     "metadata": {},
     "output_type": "execute_result"
    },
    {
     "data": {
      "image/png": "[encoded data removed]",
      "text/plain": [
       "<Figure size 432x288 with 1 Axes>"
      ]
     },
     "metadata": {
      "needs_background": "light"
     },
     "output_type": "display_data"
    }
   ],
   "source": [
    "#barplot using https://seaborn.pydata.org/generated/seaborn.barplot.html\n",
    "sns.barplot(x='MLA Test MSE Mean', y = 'MLA Name', data = MLA_compare, color = 'm')\n",
    "\n",
    "#prettify using pyplot: https://matplotlib.org/api/pyplot_api.html\n",
    "plt.title('Machine Learning Algorithm MSE Score \\n')\n",
    "plt.xlabel('Mean Squared Error Score')\n",
    "plt.ylabel('Algorithm')\n"
   ]
  },
  {
   "cell_type": "code",
   "execution_count": 19,
   "id": "70eef23a",
   "metadata": {},
   "outputs": [
    {
     "ename": "NameError",
     "evalue": "name 'X_test' is not defined",
     "output_type": "error",
     "traceback": [
      "\u001b[1;31m---------------------------------------------------------------------------\u001b[0m",
      "\u001b[1;31mNameError\u001b[0m                                 Traceback (most recent call last)",
      "\u001b[1;32m<ipython-input-19-8c2a216c9ba9>\u001b[0m in \u001b[0;36m<module>\u001b[1;34m\u001b[0m\n\u001b[0;32m      1\u001b[0m \u001b[1;31m# Example for one model\u001b[0m\u001b[1;33m\u001b[0m\u001b[1;33m\u001b[0m\u001b[1;33m\u001b[0m\u001b[0m\n\u001b[1;32m----> 2\u001b[1;33m \u001b[0mpredicted\u001b[0m \u001b[1;33m=\u001b[0m \u001b[0mXGBRegressor\u001b[0m\u001b[1;33m.\u001b[0m\u001b[0mpredict\u001b[0m\u001b[1;33m(\u001b[0m\u001b[0mX_test\u001b[0m\u001b[1;33m)\u001b[0m  \u001b[1;31m# model is one of your trained MLAs\u001b[0m\u001b[1;33m\u001b[0m\u001b[1;33m\u001b[0m\u001b[0m\n\u001b[0m\u001b[0;32m      3\u001b[0m \u001b[0mresiduals\u001b[0m \u001b[1;33m=\u001b[0m \u001b[0my_test\u001b[0m \u001b[1;33m-\u001b[0m \u001b[0mpredicted\u001b[0m\u001b[1;33m\u001b[0m\u001b[1;33m\u001b[0m\u001b[0m\n\u001b[0;32m      4\u001b[0m \u001b[1;33m\u001b[0m\u001b[0m\n\u001b[0;32m      5\u001b[0m \u001b[0msns\u001b[0m\u001b[1;33m.\u001b[0m\u001b[0mhistplot\u001b[0m\u001b[1;33m(\u001b[0m\u001b[0mresiduals\u001b[0m\u001b[1;33m,\u001b[0m \u001b[0mkde\u001b[0m\u001b[1;33m=\u001b[0m\u001b[1;32mTrue\u001b[0m\u001b[1;33m)\u001b[0m\u001b[1;33m\u001b[0m\u001b[1;33m\u001b[0m\u001b[0m\n",
      "\u001b[1;31mNameError\u001b[0m: name 'X_test' is not defined"
     ]
    }
   ],
   "source": [
    "# Example for one model\n",
    "predicted = XGBRegressor.predict(X_test)  # model is one of your trained MLAs\n",
    "residuals = y_test - predicted\n",
    "\n",
    "sns.histplot(residuals, kde=True)\n",
    "plt.xlabel('Residuals')\n",
    "plt.title('Distribution of Residuals')\n",
    "plt.show()\n"
   ]
  },
  {
   "cell_type": "code",
   "execution_count": null,
   "id": "68ae7b02",
   "metadata": {},
   "outputs": [],
   "source": []
  }
 ],
 "metadata": {
  "kernelspec": {
   "display_name": "Python 3",
   "language": "python",
   "name": "python3"
  },
  "language_info": {
   "codemirror_mode": {
    "name": "ipython",
    "version": 3
   },
   "file_extension": ".py",
   "mimetype": "text/x-python",
   "name": "python",
   "nbconvert_exporter": "python",
   "pygments_lexer": "ipython3",
   "version": "3.8.8"
  }
 },
 "nbformat": 4,
 "nbformat_minor": 5
}
